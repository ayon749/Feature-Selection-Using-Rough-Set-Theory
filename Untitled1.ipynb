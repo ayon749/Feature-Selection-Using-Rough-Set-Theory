{
 "cells": [
  {
   "cell_type": "code",
   "execution_count": 16,
   "metadata": {},
   "outputs": [
    {
     "name": "stdout",
     "output_type": "stream",
     "text": [
      "   Age  Sex  Steriod  Antivirus  Fatigue  Malaise  Anorexia  Liver big  \\\n",
      "0   30    2        1          2        2        2         2          1   \n",
      "1   50    1        1          2        1        2         2          1   \n",
      "2   78    1        2          2        1        2         2          2   \n",
      "3   31    1        2          1        2        2         2          2   \n",
      "4   34    1        2          2        2        2         2          2   \n",
      "\n",
      "   Liver firm  Spleen palpable  Spiders  Ascites  Varices  Bilirubin  \\\n",
      "0           2                2        2        2        2        1.0   \n",
      "1           2                2        2        2        2        0.9   \n",
      "2           2                2        2        2        2        0.7   \n",
      "3           2                2        2        2        2        0.7   \n",
      "4           2                2        2        2        2        1.0   \n",
      "\n",
      "   Alk phosphate  Sgot  Albumin  Histology  Class  \n",
      "0             85    18      4.0          1      2  \n",
      "1            135    42      3.5          1      2  \n",
      "2             96    32      4.0          1      2  \n",
      "3             46    52      4.0          1      2  \n",
      "4             85   200      4.0          1      2  \n"
     ]
    }
   ],
   "source": [
    "import numpy as np\n",
    "import pandas as pd\n",
    "#_______________________ File selection box\n",
    "filename = 'hepatitis.csv' # show an \"Open\" dialog box and return the path to the selected file\n",
    "#Cfilename ='breast10.csv'\n",
    "#_______________________ Converting csv file to list\n",
    "df = pd.read_csv(filename)#,index_col=True)\n",
    "df=df.drop(['id'],axis=1)\n",
    "U = df.values.tolist()\n",
    "U = [[index] + value for index , value in enumerate(U) ]\n",
    "print(df.head())\n",
    "#________________________ Equivalence partition function"
   ]
  },
  {
   "cell_type": "code",
   "execution_count": 17,
   "metadata": {},
   "outputs": [],
   "source": [
    "def equivalence_partition( iterable , index ):\n",
    "    classes = []\n",
    "    dclasses = {}\n",
    "    for o in iterable: # for each object\n",
    "        # find the class it is in\n",
    "        found = False\n",
    "        for c in classes:\n",
    "            indice_ele = next(iter(c))\n",
    "            element = [iterable[indice_ele][ind] == o[ind] for ind in index]\n",
    "            if all(element): # is it equivalent to this class?\n",
    "                c.add( o[0])\n",
    "                dclasses[o[0]] = c\n",
    "                found = True\n",
    "                break\n",
    "        if not found: # it is in a new class\n",
    "            classes.append( set([o[0]]))\n",
    "            dclasses[o[0]] = classes[-1]\n",
    "    return classes,dclasses\n",
    "#_________________________ Finding lower approximation and positif region"
   ]
  },
  {
   "cell_type": "code",
   "execution_count": 18,
   "metadata": {},
   "outputs": [],
   "source": [
    "def lower_appr(B):\n",
    "    ind_B = equivalence_partition( U , B )[1]\n",
    "    ind_d = equivalence_partition( U , D )[1]\n",
    "    lower_appr_set = set()\n",
    "    for x,ele in enumerate(U):\n",
    "        if ind_B[x].issubset(ind_d[x]):\n",
    "            lower_appr_set.add(x)\n",
    "    return lower_appr_set\n",
    "#________________________ Finding dependencey of features"
   ]
  },
  {
   "cell_type": "code",
   "execution_count": 19,
   "metadata": {},
   "outputs": [
    {
     "data": {
      "text/plain": [
       "{1, 14, 16}"
      ]
     },
     "execution_count": 19,
     "metadata": {},
     "output_type": "execute_result"
    }
   ],
   "source": [
    "def gamma(B):\n",
    "    return float(len(lower_appr(B)))/float(len(U))\n",
    "#_________________________ Rough set feature selection quickreduct algorithm\n",
    "def qreduct(C):\n",
    "    R = set()\n",
    "    while True:\n",
    "        T = R\n",
    "        for x in C-R:\n",
    "             if gamma(R.union(set([x]))) > gamma(T):\n",
    "                T = R.union(set([x]))\n",
    "\n",
    "        R = T\n",
    "        if gamma(R) == gamma(C):\n",
    "                break\n",
    "    return R\n",
    "#_________________________ Main fuction\n",
    "decision=len(df.columns)#_________ defining le decision index\n",
    "D = [decision]           \n",
    "B = set([ i for i in range(1,decision)]) #__________ defining condition index\n",
    "Features= qreduct(B)\n",
    "Features"
   ]
  },
  {
   "cell_type": "code",
   "execution_count": null,
   "metadata": {},
   "outputs": [],
   "source": []
  },
  {
   "cell_type": "code",
   "execution_count": null,
   "metadata": {},
   "outputs": [],
   "source": []
  }
 ],
 "metadata": {
  "kernelspec": {
   "display_name": "Python 3",
   "language": "python",
   "name": "python3"
  },
  "language_info": {
   "codemirror_mode": {
    "name": "ipython",
    "version": 3
   },
   "file_extension": ".py",
   "mimetype": "text/x-python",
   "name": "python",
   "nbconvert_exporter": "python",
   "pygments_lexer": "ipython3",
   "version": "3.7.0"
  }
 },
 "nbformat": 4,
 "nbformat_minor": 2
}
