{
 "cells": [
  {
   "cell_type": "code",
   "execution_count": 1,
   "metadata": {},
   "outputs": [],
   "source": [
    "import pandas as pd \n",
    "from itertools import combinations\n",
    "import itertools\n",
    "import collections\n",
    "from itertools import chain, combinations"
   ]
  },
  {
   "cell_type": "code",
   "execution_count": 2,
   "metadata": {},
   "outputs": [],
   "source": [
    "# load database\n",
    "data=pd.read_csv(r\"hepatitis.csv\",encoding = \"unicode_escape\")"
   ]
  },
  {
   "cell_type": "code",
   "execution_count": 3,
   "metadata": {},
   "outputs": [
    {
     "data": {
      "text/html": [
       "<div>\n",
       "<style scoped>\n",
       "    .dataframe tbody tr th:only-of-type {\n",
       "        vertical-align: middle;\n",
       "    }\n",
       "\n",
       "    .dataframe tbody tr th {\n",
       "        vertical-align: top;\n",
       "    }\n",
       "\n",
       "    .dataframe thead th {\n",
       "        text-align: right;\n",
       "    }\n",
       "</style>\n",
       "<table border=\"1\" class=\"dataframe\">\n",
       "  <thead>\n",
       "    <tr style=\"text-align: right;\">\n",
       "      <th></th>\n",
       "      <th>Age</th>\n",
       "      <th>Sex</th>\n",
       "      <th>Steriod</th>\n",
       "      <th>Antivirus</th>\n",
       "      <th>Fatigue</th>\n",
       "      <th>Malaise</th>\n",
       "      <th>Anorexia</th>\n",
       "      <th>Liver big</th>\n",
       "      <th>Liver firm</th>\n",
       "      <th>Spleen palpable</th>\n",
       "      <th>Spiders</th>\n",
       "      <th>Ascites</th>\n",
       "      <th>Varices</th>\n",
       "      <th>Bilirubin</th>\n",
       "      <th>Alk phosphate</th>\n",
       "      <th>Sgot</th>\n",
       "      <th>Albumin</th>\n",
       "      <th>Histology</th>\n",
       "      <th>Class</th>\n",
       "      <th>id</th>\n",
       "    </tr>\n",
       "  </thead>\n",
       "  <tbody>\n",
       "    <tr>\n",
       "      <th>0</th>\n",
       "      <td>30</td>\n",
       "      <td>2</td>\n",
       "      <td>1</td>\n",
       "      <td>2</td>\n",
       "      <td>2</td>\n",
       "      <td>2</td>\n",
       "      <td>2</td>\n",
       "      <td>1</td>\n",
       "      <td>2</td>\n",
       "      <td>2</td>\n",
       "      <td>2</td>\n",
       "      <td>2</td>\n",
       "      <td>2</td>\n",
       "      <td>1.0</td>\n",
       "      <td>85</td>\n",
       "      <td>18</td>\n",
       "      <td>4.0</td>\n",
       "      <td>1</td>\n",
       "      <td>2</td>\n",
       "      <td>1</td>\n",
       "    </tr>\n",
       "    <tr>\n",
       "      <th>1</th>\n",
       "      <td>50</td>\n",
       "      <td>1</td>\n",
       "      <td>1</td>\n",
       "      <td>2</td>\n",
       "      <td>1</td>\n",
       "      <td>2</td>\n",
       "      <td>2</td>\n",
       "      <td>1</td>\n",
       "      <td>2</td>\n",
       "      <td>2</td>\n",
       "      <td>2</td>\n",
       "      <td>2</td>\n",
       "      <td>2</td>\n",
       "      <td>0.9</td>\n",
       "      <td>135</td>\n",
       "      <td>42</td>\n",
       "      <td>3.5</td>\n",
       "      <td>1</td>\n",
       "      <td>2</td>\n",
       "      <td>2</td>\n",
       "    </tr>\n",
       "    <tr>\n",
       "      <th>2</th>\n",
       "      <td>78</td>\n",
       "      <td>1</td>\n",
       "      <td>2</td>\n",
       "      <td>2</td>\n",
       "      <td>1</td>\n",
       "      <td>2</td>\n",
       "      <td>2</td>\n",
       "      <td>2</td>\n",
       "      <td>2</td>\n",
       "      <td>2</td>\n",
       "      <td>2</td>\n",
       "      <td>2</td>\n",
       "      <td>2</td>\n",
       "      <td>0.7</td>\n",
       "      <td>96</td>\n",
       "      <td>32</td>\n",
       "      <td>4.0</td>\n",
       "      <td>1</td>\n",
       "      <td>2</td>\n",
       "      <td>3</td>\n",
       "    </tr>\n",
       "    <tr>\n",
       "      <th>3</th>\n",
       "      <td>31</td>\n",
       "      <td>1</td>\n",
       "      <td>2</td>\n",
       "      <td>1</td>\n",
       "      <td>2</td>\n",
       "      <td>2</td>\n",
       "      <td>2</td>\n",
       "      <td>2</td>\n",
       "      <td>2</td>\n",
       "      <td>2</td>\n",
       "      <td>2</td>\n",
       "      <td>2</td>\n",
       "      <td>2</td>\n",
       "      <td>0.7</td>\n",
       "      <td>46</td>\n",
       "      <td>52</td>\n",
       "      <td>4.0</td>\n",
       "      <td>1</td>\n",
       "      <td>2</td>\n",
       "      <td>4</td>\n",
       "    </tr>\n",
       "    <tr>\n",
       "      <th>4</th>\n",
       "      <td>34</td>\n",
       "      <td>1</td>\n",
       "      <td>2</td>\n",
       "      <td>2</td>\n",
       "      <td>2</td>\n",
       "      <td>2</td>\n",
       "      <td>2</td>\n",
       "      <td>2</td>\n",
       "      <td>2</td>\n",
       "      <td>2</td>\n",
       "      <td>2</td>\n",
       "      <td>2</td>\n",
       "      <td>2</td>\n",
       "      <td>1.0</td>\n",
       "      <td>85</td>\n",
       "      <td>200</td>\n",
       "      <td>4.0</td>\n",
       "      <td>1</td>\n",
       "      <td>2</td>\n",
       "      <td>5</td>\n",
       "    </tr>\n",
       "  </tbody>\n",
       "</table>\n",
       "</div>"
      ],
      "text/plain": [
       "   Age  Sex  Steriod  Antivirus  Fatigue  Malaise  Anorexia  Liver big  \\\n",
       "0   30    2        1          2        2        2         2          1   \n",
       "1   50    1        1          2        1        2         2          1   \n",
       "2   78    1        2          2        1        2         2          2   \n",
       "3   31    1        2          1        2        2         2          2   \n",
       "4   34    1        2          2        2        2         2          2   \n",
       "\n",
       "   Liver firm  Spleen palpable  Spiders  Ascites  Varices  Bilirubin  \\\n",
       "0           2                2        2        2        2        1.0   \n",
       "1           2                2        2        2        2        0.9   \n",
       "2           2                2        2        2        2        0.7   \n",
       "3           2                2        2        2        2        0.7   \n",
       "4           2                2        2        2        2        1.0   \n",
       "\n",
       "   Alk phosphate  Sgot  Albumin  Histology  Class  id  \n",
       "0             85    18      4.0          1      2   1  \n",
       "1            135    42      3.5          1      2   2  \n",
       "2             96    32      4.0          1      2   3  \n",
       "3             46    52      4.0          1      2   4  \n",
       "4             85   200      4.0          1      2   5  "
      ]
     },
     "execution_count": 3,
     "metadata": {},
     "output_type": "execute_result"
    }
   ],
   "source": [
    "data=data.head()\n",
    "data"
   ]
  },
  {
   "cell_type": "code",
   "execution_count": 4,
   "metadata": {},
   "outputs": [],
   "source": [
    "# change output attribute name accourding to dataset\n",
    "outputAttributeName='Class'\n",
    "trimData=data.drop([outputAttributeName,\"id\"],1)"
   ]
  },
  {
   "cell_type": "code",
   "execution_count": 5,
   "metadata": {},
   "outputs": [
    {
     "name": "stdout",
     "output_type": "stream",
     "text": [
      "Age\n",
      "Sex\n",
      "Steriod\n",
      "Antivirus\n",
      "Fatigue\n",
      "Malaise\n",
      "Anorexia\n",
      "Liver big\n",
      "Liver firm\n",
      "Spleen palpable\n",
      "Spiders\n",
      "Ascites\n",
      "Varices\n",
      "Bilirubin\n",
      "Alk phosphate\n",
      "Sgot\n",
      "Albumin\n",
      "Histology\n"
     ]
    }
   ],
   "source": [
    "#do not change\n",
    "allAttributesName = []\n",
    "for col in trimData.columns: \n",
    "    allAttributesName.append(col) \n",
    "    print(col)"
   ]
  },
  {
   "cell_type": "code",
   "execution_count": 6,
   "metadata": {},
   "outputs": [],
   "source": [
    "# do not change\n",
    "outputValues=[]\n",
    "outputValues=data.Class.unique()"
   ]
  },
  {
   "cell_type": "code",
   "execution_count": 7,
   "metadata": {},
   "outputs": [],
   "source": [
    "# do not change\n",
    "outputTables = {}\n",
    "for item in outputValues :\n",
    "    u=data[data[outputAttributeName]==item]\n",
    "    outputTables[item]=u"
   ]
  },
  {
   "cell_type": "code",
   "execution_count": 8,
   "metadata": {},
   "outputs": [],
   "source": [
    "def indiscernibility(attributeList,d) :\n",
    "    ultimateList=[]\n",
    "    rData=d\n",
    "    for i in range(0,len(d)) :\n",
    "        df=d.iloc[[i]]\n",
    "        ttList,rData=mmatch(attributeList,df,i,rData)\n",
    "        ultimateList.append(ttList)\n",
    "        \n",
    "    return ultimateList"
   ]
  },
  {
   "cell_type": "code",
   "execution_count": 9,
   "metadata": {},
   "outputs": [],
   "source": [
    "def mmatch(aList,df,index,rData) :\n",
    "    uList=[]\n",
    "    fList=[]\n",
    "    for ll in aList :\n",
    "        aa=rData[rData[ll]==df[ll][index]]\n",
    "        for idd in aa.id :\n",
    "            fList.append(idd)\n",
    "    \n",
    "    counter=collections.Counter(fList)\n",
    "    for key, value in counter.items(): \n",
    "        if value==len(aList) :\n",
    "            uList.append(key)\n",
    "            rData=rData[rData['id']!=key]\n",
    "    \n",
    "    return uList,rData"
   ]
  },
  {
   "cell_type": "code",
   "execution_count": 10,
   "metadata": {},
   "outputs": [],
   "source": [
    "# i=4\n",
    "# ddddd=data.iloc[[i]]\n",
    "# # ddddd\n",
    "# mmatch(['ECG'],ddddd,i,data)"
   ]
  },
  {
   "cell_type": "code",
   "execution_count": 11,
   "metadata": {},
   "outputs": [
    {
     "data": {
      "text/plain": [
       "[[1], [2], [3], [4], [5]]"
      ]
     },
     "execution_count": 11,
     "metadata": {},
     "output_type": "execute_result"
    }
   ],
   "source": [
    "# do not change\n",
    "# rData=data\n",
    "overallIndicernibility=[]\n",
    "overallIndicernibility=indiscernibility(allAttributesName,data)\n",
    "overallIndicernibility = list(filter(None, overallIndicernibility))\n",
    "overallIndicernibility"
   ]
  },
  {
   "cell_type": "code",
   "execution_count": 12,
   "metadata": {},
   "outputs": [],
   "source": [
    "def upperValue(rData,oValues,iList) :\n",
    "    upperList={}\n",
    "    for v in oValues :\n",
    "        ul=[]\n",
    "        tl=[]\n",
    "#         td=rData[rData[outputAttributeName]==v]\n",
    "#         for index, row in rData.iterrows(): \n",
    "#             tl.append(row['id'])\n",
    "        tl=rData[rData[outputAttributeName]==v]\n",
    "        ul=innerUpperValue(tl,iList)\n",
    "        upperList[v]=ul\n",
    "#         break\n",
    "    return upperList\n",
    "#     print(tl)\n",
    "        \n",
    "        "
   ]
  },
  {
   "cell_type": "code",
   "execution_count": 13,
   "metadata": {},
   "outputs": [],
   "source": [
    "def innerUpperValue(resulTable,iList) :\n",
    "    upperList=[]\n",
    "    for i in range(0,len(iList)) :\n",
    "        flag=0\n",
    "        for j in range(0,len(iList[i])) :\n",
    "            rr=resulTable[resulTable['id']==iList[i][j]]\n",
    "#             print(iList[i][j])\n",
    "#             print(len(rr))\n",
    "            if len(rr)>0 :\n",
    "                flag=1\n",
    "                break;\n",
    "            else :\n",
    "                flag=0\n",
    "        if flag==1 :\n",
    "#             print(indList[i])\n",
    "            for tv in iList[i] :\n",
    "                upperList.append(tv)\n",
    "#         break\n",
    "    return upperList"
   ]
  },
  {
   "cell_type": "code",
   "execution_count": 14,
   "metadata": {},
   "outputs": [],
   "source": [
    "# uValue=upperValue(data,outputValues,overallIndicernibility)\n",
    "# uValue\n",
    "# indList"
   ]
  },
  {
   "cell_type": "code",
   "execution_count": 15,
   "metadata": {},
   "outputs": [],
   "source": [
    "def lowerValue(rData,oValues,indList) :\n",
    "    lowerList={}\n",
    "    for v in oValues :\n",
    "        ul=[]\n",
    "        tl=[]\n",
    "#         td=rData[rData[outputAttributeName]==v]\n",
    "#         for index, row in rData.iterrows(): \n",
    "#             tl.append(row['id'])\n",
    "        tl=rData[rData[outputAttributeName]==v]\n",
    "        ul=innerLowerValue(tl,indList)\n",
    "        lowerList[v]=ul\n",
    "    return lowerList\n",
    "#     print(tl)\n",
    "        "
   ]
  },
  {
   "cell_type": "code",
   "execution_count": 16,
   "metadata": {},
   "outputs": [],
   "source": [
    "def innerLowerValue(resulTable,indList) :\n",
    "    lowerList=[]\n",
    "    for i in range(0,len(indList)) :\n",
    "        flag=0\n",
    "        for j in range(0,len(indList[i])) :\n",
    "            rr=resulTable[resulTable['id']==indList[i][j]]\n",
    "            if len(rr)>0 :\n",
    "                flag=1\n",
    "            else :\n",
    "                flag=0\n",
    "                break\n",
    "        if flag==1 :\n",
    "            for tv in indList[i] :\n",
    "                lowerList.append(tv)\n",
    "    return lowerList"
   ]
  },
  {
   "cell_type": "code",
   "execution_count": 17,
   "metadata": {},
   "outputs": [
    {
     "data": {
      "text/plain": [
       "{2: [1, 2, 3, 4, 5]}"
      ]
     },
     "execution_count": 17,
     "metadata": {},
     "output_type": "execute_result"
    }
   ],
   "source": [
    "uValue=upperValue(data,outputValues,overallIndicernibility)\n",
    "uValue"
   ]
  },
  {
   "cell_type": "code",
   "execution_count": 18,
   "metadata": {},
   "outputs": [
    {
     "data": {
      "text/plain": [
       "{2: [1, 2, 3, 4, 5]}"
      ]
     },
     "execution_count": 18,
     "metadata": {},
     "output_type": "execute_result"
    }
   ],
   "source": [
    "lValue=lowerValue(data,outputValues,overallIndicernibility)\n",
    "lValue"
   ]
  },
  {
   "cell_type": "code",
   "execution_count": 19,
   "metadata": {},
   "outputs": [],
   "source": [
    "def positiveRegion(lValue) :\n",
    "    positiveRegionList=[]\n",
    "    for key, value in lValue.items() :\n",
    "        for i in value :\n",
    "            positiveRegionList.append(i)\n",
    "    return positiveRegionList"
   ]
  },
  {
   "cell_type": "code",
   "execution_count": 20,
   "metadata": {},
   "outputs": [
    {
     "data": {
      "text/plain": [
       "[1, 2, 3, 4, 5]"
      ]
     },
     "execution_count": 20,
     "metadata": {},
     "output_type": "execute_result"
    }
   ],
   "source": [
    "positiveRegionValue=positiveRegion(lValue)\n",
    "positiveRegionValue"
   ]
  },
  {
   "cell_type": "code",
   "execution_count": null,
   "metadata": {},
   "outputs": [],
   "source": []
  },
  {
   "cell_type": "code",
   "execution_count": 21,
   "metadata": {},
   "outputs": [],
   "source": [
    "def powerset(iterable):\n",
    "    \"powerset([1,2,3]) --> () (1,) (2,) (3,) (1,2) (1,3) (2,3) (1,2,3)\"\n",
    "    s = list(iterable)  # allows duplicate elements\n",
    "    return chain.from_iterable(combinations(s, r) for r in range(len(s)+1))\n"
   ]
  },
  {
   "cell_type": "code",
   "execution_count": 22,
   "metadata": {},
   "outputs": [
    {
     "name": "stdout",
     "output_type": "stream",
     "text": [
      "[[1], [2], [3], [4], [5]]\n"
     ]
    }
   ],
   "source": [
    "INDC=[]\n",
    "for m in range(0,len(overallIndicernibility)) :\n",
    "    tl=[]\n",
    "    for n in range(0,len(overallIndicernibility[m])) :\n",
    "        for pr in positiveRegionValue :\n",
    "            if overallIndicernibility[m][n]==pr :\n",
    "                tl.append(overallIndicernibility[m][n])\n",
    "        if(len(tl)>0) :\n",
    "            INDC.append(tl)\n",
    "print(INDC)"
   ]
  },
  {
   "cell_type": "code",
   "execution_count": null,
   "metadata": {},
   "outputs": [],
   "source": [
    "# do not change\n",
    "reduct=[]\n",
    "stuff = allAttributesName\n",
    "# stuff = [1, 2, 3]\n",
    "for i, combo in enumerate(powerset(stuff), 1):\n",
    "    if len(combo)>0 and i>0:\n",
    "        ll=[]\n",
    "        abc=[]\n",
    "        for index in range(0,len(combo)) :\n",
    "            ll.append(combo[index])\n",
    "#         print(ll)\n",
    "        indList=[]\n",
    "        indList=indiscernibility(ll,data)\n",
    "        indList = list(filter(None, indList))\n",
    "        for m in range(0,len(indList)) :\n",
    "            flag=0\n",
    "            tl=[]\n",
    "            for n in range(0,len(indList[m])) :\n",
    "                for pr in positiveRegionValue :\n",
    "                    if indList[m][n]==pr :\n",
    "                        tl.append(indList[m][n])\n",
    "                                    \n",
    "            if len(tl)>0 :\n",
    "                abc.append(tl)\n",
    "        cc=0\n",
    "        for x in INDC:\n",
    "            for y in abc :\n",
    "                if len(y)==len(x) :\n",
    "                    temp=set(x) & set(y)\n",
    "                    if len(temp)==len(y) :\n",
    "                        cc=cc+1\n",
    "#                         print(temp)\n",
    "        if(cc==len(INDC)) :\n",
    "#             print(\"Matched\")\n",
    "            reduct.append(ll)\n",
    "#             print(ll)\n",
    "#         print(abc)\n",
    "#         print(uul)\n"
   ]
  },
  {
   "cell_type": "code",
   "execution_count": null,
   "metadata": {},
   "outputs": [],
   "source": [
    "# do not change\n",
    "treduct=[]\n",
    "for i in range(0,len(reduct)):\n",
    "    if i<len(reduct)-1:\n",
    "        treduct.append(reduct[i])\n",
    "reduct=treduct"
   ]
  },
  {
   "cell_type": "code",
   "execution_count": null,
   "metadata": {},
   "outputs": [],
   "source": [
    "# do not change\n",
    "core=reduct[0]\n",
    "for r in reduct:\n",
    "    core=set(core) & set(r)\n",
    "core"
   ]
  },
  {
   "cell_type": "code",
   "execution_count": null,
   "metadata": {},
   "outputs": [],
   "source": [
    "print(\"Step - 1 Upper Value:\")\n",
    "print(uValue)\n",
    "print(\"Step - 2 : Lower Value\")\n",
    "print(lValue)\n",
    "print(\"Step - 3 : Positive Value\")\n",
    "print(positiveRegionValue)\n",
    "print(\"Step - 7 : Reduct \")\n",
    "print(reduct)\n",
    "print(\"Step - 7 : Core \")\n",
    "print(core)"
   ]
  },
  {
   "cell_type": "code",
   "execution_count": null,
   "metadata": {},
   "outputs": [],
   "source": []
  }
 ],
 "metadata": {
  "kernelspec": {
   "display_name": "Python 3",
   "language": "python",
   "name": "python3"
  },
  "language_info": {
   "codemirror_mode": {
    "name": "ipython",
    "version": 3
   },
   "file_extension": ".py",
   "mimetype": "text/x-python",
   "name": "python",
   "nbconvert_exporter": "python",
   "pygments_lexer": "ipython3",
   "version": "3.7.0"
  }
 },
 "nbformat": 4,
 "nbformat_minor": 2
}
