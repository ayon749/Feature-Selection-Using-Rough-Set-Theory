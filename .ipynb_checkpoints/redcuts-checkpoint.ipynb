{
 "cells": [
  {
   "cell_type": "code",
   "execution_count": 31,
   "metadata": {},
   "outputs": [],
   "source": [
    "import pandas as pd\n",
    "import numpy as np\n"
   ]
  },
  {
   "cell_type": "markdown",
   "metadata": {},
   "source": [
    "dataset=pd.read_csv(\"sortedDataframe.csv\")"
   ]
  },
  {
   "cell_type": "code",
   "execution_count": 37,
   "metadata": {
    "scrolled": false
   },
   "outputs": [
    {
     "data": {
      "text/plain": [
       "0     85\n",
       "1     85\n",
       "2     85\n",
       "3     85\n",
       "4     85\n",
       "5     85\n",
       "6     85\n",
       "7     85\n",
       "8     85\n",
       "9     85\n",
       "10    85\n",
       "11    85\n",
       "12    85\n",
       "13    85\n",
       "14    85\n",
       "15    85\n",
       "16    85\n",
       "17    85\n",
       "18    85\n",
       "19    85\n",
       "20    85\n",
       "21    85\n",
       "22    85\n",
       "23    85\n",
       "24    85\n",
       "25    85\n",
       "26    85\n",
       "27    85\n",
       "28    85\n",
       "29    85\n",
       "      ..\n",
       "55    85\n",
       "56    85\n",
       "57    85\n",
       "58    85\n",
       "59    85\n",
       "60    85\n",
       "61    85\n",
       "62    85\n",
       "63    85\n",
       "64    85\n",
       "65    85\n",
       "66    85\n",
       "67    85\n",
       "68    85\n",
       "69    85\n",
       "70    85\n",
       "71    85\n",
       "72    85\n",
       "73    85\n",
       "74    85\n",
       "75    85\n",
       "76    85\n",
       "77    85\n",
       "78    85\n",
       "79    85\n",
       "80    85\n",
       "81    85\n",
       "82    85\n",
       "83    85\n",
       "84    85\n",
       "Name: id, Length: 85, dtype: int64"
      ]
     },
     "execution_count": 37,
     "metadata": {},
     "output_type": "execute_result"
    }
   ],
   "source": [
    "dataset.head()\n",
    "features=dataset.columns\n",
    "features\n",
    "\n",
    "\n"
   ]
  },
  {
   "cell_type": "code",
   "execution_count": null,
   "metadata": {},
   "outputs": [],
   "source": []
  }
 ],
 "metadata": {
  "kernelspec": {
   "display_name": "Python 3",
   "language": "python",
   "name": "python3"
  },
  "language_info": {
   "codemirror_mode": {
    "name": "ipython",
    "version": 3
   },
   "file_extension": ".py",
   "mimetype": "text/x-python",
   "name": "python",
   "nbconvert_exporter": "python",
   "pygments_lexer": "ipython3",
   "version": "3.7.0"
  }
 },
 "nbformat": 4,
 "nbformat_minor": 2
}
