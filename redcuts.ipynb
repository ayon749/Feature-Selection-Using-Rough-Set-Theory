{
 "cells": [
  {
   "cell_type": "code",
   "execution_count": 1,
   "metadata": {},
   "outputs": [],
   "source": [
    "import pandas as pd\n",
    "import numpy as np\n"
   ]
  },
  {
   "cell_type": "code",
   "execution_count": 2,
   "metadata": {},
   "outputs": [],
   "source": [
    "dataset=pd.read_csv(\"hepatitis.csv\")"
   ]
  },
  {
   "cell_type": "code",
   "execution_count": 4,
   "metadata": {
    "scrolled": false
   },
   "outputs": [],
   "source": [
    "dataset.head()\n",
    "features=dataset.columns\n",
    "myclass=dataset.Class.unique()\n",
    "\n",
    "classlist=dataset['Class'].tolist()\n",
    "idlist=dataset['id'].tolist()\n",
    "\n",
    "i=0\n",
    "j=0\n",
    "k=0\n",
    "positivelist=np.zeros(150)\n",
    "negativelist=np.zeros(150)\n",
    "for item in classlist:\n",
    "    if item==1:\n",
    "       \n",
    "        positivelist[j]=idlist[i]\n",
    "        j+=1\n",
    "    else:\n",
    "        negativelist[k]=idlist[i]\n",
    "        k+=1\n",
    "    i+=1\n",
    "positivelist=positivelist[positivelist>0]\n",
    "negativelist=negativelist[negativelist>0]\n",
    "      \n",
    "\n",
    "\n",
    "\n",
    "  \n"
   ]
  },
  {
   "cell_type": "code",
   "execution_count": 5,
   "metadata": {},
   "outputs": [],
   "source": [
    "info_table=dataset.drop(['Class','id'],axis=1)\n"
   ]
  },
  {
   "cell_type": "code",
   "execution_count": 11,
   "metadata": {},
   "outputs": [
    {
     "data": {
      "text/plain": [
       "array(['1', '2', '3', '4', '5', '6', '7', '8', '9', '10', '11', '12',\n",
       "       '13', '14', '15', '16', '17', '18', '19', '20', '21', '22', '23',\n",
       "       '24', '25', '26', '27', '28', '29', '30', '31', '32', '33', '34',\n",
       "       '35', '36', '37', '38', '39', '40', '41', '42', '43', '44', '45',\n",
       "       '46', '47', '48', '49', '50', '51', '52', '53', '54', '55', '56',\n",
       "       '57', '58', '59', '60', '61', '62', '63', '64', '65', '66', '67',\n",
       "       '68', '69', '70', '71', '72', '73', '74', '75', '76', '77', '78',\n",
       "       '79', '80', '81', '82', '83', '84', '85', '86', '87', '88', '89',\n",
       "       '90', '91', '92', '93', '94', '95', '96', '97', '98', '99', '100',\n",
       "       '101', '102', '103', '104', '105', '106', '107', '108', '109',\n",
       "       '110', '111', '112', '113', '114', '115', '116', '117', '118',\n",
       "       '119', '120', '121', '122', '123', '124', '125', '126', '127',\n",
       "       '128', '129', '130', '131', '132', '133', '134', '135', '136',\n",
       "       '137', '138', '139', '140', '141', '142', '143', '144', '145',\n",
       "       '146', '147'], dtype='<U21')"
      ]
     },
     "execution_count": 11,
     "metadata": {},
     "output_type": "execute_result"
    }
   ],
   "source": [
    "dataset['target']=np.where((info_table.duplicated()),1,0)\n",
    "targetlist=np.where(dataset['target']==0,dataset['id'],\"\")\n",
    "targetlist"
   ]
  },
  {
   "cell_type": "code",
   "execution_count": 18,
   "metadata": {},
   "outputs": [
    {
     "data": {
      "text/plain": [
       "array([  1.,   2.,   3.,   4.,   5.,   6.,   7.,   8.,   9.,  10.,  11.,\n",
       "        12.,  13.,  14.,  15.,  16.,  17.,  18.,  19.,  20.,  21.,  22.,\n",
       "        23.,  24.,  25.,  26.,  27.,  28.,  29.,  31.,  32.,  33.,  35.,\n",
       "        36.,  37.,  38.,  39.,  40.,  41.,  42.,  43.,  44.,  45.,  46.,\n",
       "        47.,  48.,  49.,  50.,  51.,  52.,  53.,  54.,  55.,  56.,  57.,\n",
       "        58.,  59.,  60.,  61.,  62.,  63.,  65.,  66.,  67.,  69.,  70.,\n",
       "        71.,  73.,  74.,  75.,  76.,  77.,  78.,  79.,  80.,  84.,  85.,\n",
       "        87.,  88.,  90.,  91.,  92.,  94.,  96.,  97.,  98., 100., 102.,\n",
       "       103., 105., 107., 108., 109., 110., 111., 112., 113., 115., 116.,\n",
       "       117., 118., 119., 120., 122., 124., 126., 127., 129., 130., 131.,\n",
       "       133., 134., 136., 139., 141., 142., 144., 145., 146.])"
      ]
     },
     "execution_count": 18,
     "metadata": {},
     "output_type": "execute_result"
    }
   ],
   "source": [
    "def upper_approximation(listOftargetset,ids):\n",
    "    k=0\n",
    "    upper_appro=np.zeros(150)\n",
    "    for i in listOftargetset:\n",
    "        for j in ids:\n",
    "            if i==j:\n",
    "                \n",
    "                upper_appro[k]=i;\n",
    "                k+=1;\n",
    "   \n",
    "            \n",
    "    \n",
    "       \n",
    "       \n",
    "    return upper_appro\n",
    "upper_appro_positive=upper_approximation(positivelist,idlist)\n",
    "upper_appro_pos=upper_appro_positive[upper_appro_positive>0]\n",
    "upper_appro_pos\n",
    "upper_appro_negative=upper_approximation(negativelist,idlist)\n",
    "upper_appro_neg=upper_appro_negative[upper_appro_negative>0]\n",
    "upper_appro_neg"
   ]
  },
  {
   "cell_type": "code",
   "execution_count": 63,
   "metadata": {},
   "outputs": [
    {
     "data": {
      "text/plain": [
       "array([], dtype=float64)"
      ]
     },
     "execution_count": 63,
     "metadata": {},
     "output_type": "execute_result"
    }
   ],
   "source": [
    "def lower_approximation(listOftargetset,ids):\n",
    "    k=0\n",
    "    upper_lower=np.zeros(150)\n",
    "    for i in listOftargetset:\n",
    "        for j in ids:\n",
    "            if i==j:\n",
    "                \n",
    "                upper_lower[k]=i;\n",
    "                k+=1;  \n",
    "    return upper_lower\n",
    "\n",
    "\n",
    "lower_appro_positive=lower_approximation(positivelist,idlist)\n",
    "lower_appro_pos=lower_appro_positive[lower_appro_positive>0]\n",
    "upper_appro_pos\n",
    "lower_appro_negative=lower_approximation(negativelist,idlist)\n",
    "lower_appro_neg=lower_appro_negative[lower_appro_negative>0]\n",
    "lower_appro_neg\n",
    "\n"
   ]
  },
  {
   "cell_type": "code",
   "execution_count": 75,
   "metadata": {},
   "outputs": [],
   "source": [
    "def Positive_Region(lower_appr1,lower_appr2):\n",
    "    lower_appro_pos_set=set(lower_appr1)\n",
    "    lower_appro_neg_set=set(lower_appr2)\n",
    "    positive_region=lower_appro_pos_set.union(lower_appro_neg_set)\n",
    "    return positive_region\n",
    "\n",
    "    \n",
    "      \n",
    "        \n",
    "        \n",
    "        "
   ]
  },
  {
   "cell_type": "code",
   "execution_count": 77,
   "metadata": {},
   "outputs": [
    {
     "data": {
      "text/plain": [
       "{1.0,\n",
       " 2.0,\n",
       " 3.0,\n",
       " 4.0,\n",
       " 5.0,\n",
       " 6.0,\n",
       " 7.0,\n",
       " 8.0,\n",
       " 9.0,\n",
       " 10.0,\n",
       " 11.0,\n",
       " 12.0,\n",
       " 13.0,\n",
       " 14.0,\n",
       " 15.0,\n",
       " 16.0,\n",
       " 17.0,\n",
       " 18.0,\n",
       " 19.0,\n",
       " 20.0,\n",
       " 21.0,\n",
       " 22.0,\n",
       " 23.0,\n",
       " 24.0,\n",
       " 25.0,\n",
       " 26.0,\n",
       " 27.0,\n",
       " 28.0,\n",
       " 29.0,\n",
       " 30.0,\n",
       " 31.0,\n",
       " 32.0,\n",
       " 33.0,\n",
       " 34.0,\n",
       " 35.0,\n",
       " 36.0,\n",
       " 37.0,\n",
       " 38.0,\n",
       " 39.0,\n",
       " 40.0,\n",
       " 41.0,\n",
       " 42.0,\n",
       " 43.0,\n",
       " 44.0,\n",
       " 45.0,\n",
       " 46.0,\n",
       " 47.0,\n",
       " 48.0,\n",
       " 49.0,\n",
       " 50.0,\n",
       " 51.0,\n",
       " 52.0,\n",
       " 53.0,\n",
       " 54.0,\n",
       " 55.0,\n",
       " 56.0,\n",
       " 57.0,\n",
       " 58.0,\n",
       " 59.0,\n",
       " 60.0,\n",
       " 61.0,\n",
       " 62.0,\n",
       " 63.0,\n",
       " 64.0,\n",
       " 65.0,\n",
       " 66.0,\n",
       " 67.0,\n",
       " 68.0,\n",
       " 69.0,\n",
       " 70.0,\n",
       " 71.0,\n",
       " 72.0,\n",
       " 73.0,\n",
       " 74.0,\n",
       " 75.0,\n",
       " 76.0,\n",
       " 77.0,\n",
       " 78.0,\n",
       " 79.0,\n",
       " 80.0,\n",
       " 81.0,\n",
       " 82.0,\n",
       " 83.0,\n",
       " 84.0,\n",
       " 85.0,\n",
       " 86.0,\n",
       " 87.0,\n",
       " 88.0,\n",
       " 89.0,\n",
       " 90.0,\n",
       " 91.0,\n",
       " 92.0,\n",
       " 93.0,\n",
       " 94.0,\n",
       " 95.0,\n",
       " 96.0,\n",
       " 97.0,\n",
       " 98.0,\n",
       " 99.0,\n",
       " 100.0,\n",
       " 101.0,\n",
       " 102.0,\n",
       " 103.0,\n",
       " 104.0,\n",
       " 105.0,\n",
       " 106.0,\n",
       " 107.0,\n",
       " 108.0,\n",
       " 109.0,\n",
       " 110.0,\n",
       " 111.0,\n",
       " 112.0,\n",
       " 113.0,\n",
       " 114.0,\n",
       " 115.0,\n",
       " 116.0,\n",
       " 117.0,\n",
       " 118.0,\n",
       " 119.0,\n",
       " 120.0,\n",
       " 121.0,\n",
       " 122.0,\n",
       " 123.0,\n",
       " 124.0,\n",
       " 125.0,\n",
       " 126.0,\n",
       " 127.0,\n",
       " 128.0,\n",
       " 129.0,\n",
       " 130.0,\n",
       " 131.0,\n",
       " 132.0,\n",
       " 133.0,\n",
       " 134.0,\n",
       " 135.0,\n",
       " 136.0,\n",
       " 137.0,\n",
       " 138.0,\n",
       " 139.0,\n",
       " 140.0,\n",
       " 141.0,\n",
       " 142.0,\n",
       " 143.0,\n",
       " 144.0,\n",
       " 145.0,\n",
       " 146.0,\n",
       " 147.0}"
      ]
     },
     "execution_count": 77,
     "metadata": {},
     "output_type": "execute_result"
    }
   ],
   "source": [
    "\n",
    "positive_region=Positive_Region(lower_appro_pos,lower_appro_neg)\n",
    "positive_region"
   ]
  },
  {
   "cell_type": "code",
   "execution_count": null,
   "metadata": {},
   "outputs": [],
   "source": []
  }
 ],
 "metadata": {
  "kernelspec": {
   "display_name": "Python 3",
   "language": "python",
   "name": "python3"
  },
  "language_info": {
   "codemirror_mode": {
    "name": "ipython",
    "version": 3
   },
   "file_extension": ".py",
   "mimetype": "text/x-python",
   "name": "python",
   "nbconvert_exporter": "python",
   "pygments_lexer": "ipython3",
   "version": "3.7.0"
  }
 },
 "nbformat": 4,
 "nbformat_minor": 2
}
